{
 "cells": [
  {
   "cell_type": "code",
   "execution_count": null,
   "metadata": {
    "id": "dVwcExUC-hDi"
   },
   "outputs": [],
   "source": [
    "!pip install -q datasets\n",
    "!huggingface-cli login"
   ]
  },
  {
   "cell_type": "code",
   "execution_count": null,
   "metadata": {
    "colab": {
     "base_uri": "https://localhost:8080/",
     "height": 84,
     "referenced_widgets": [
      "be1e0a664646479194563d1584e3b286",
      "d36a9be560814c0a92b41474f032da39",
      "344260210e674e5ead6c3d2f5b856981",
      "0fe07cd7c957421f9a9a69bd2c799959",
      "dc2d3e5d35cb467eb2fafe15dba118b5",
      "3f88cbdabaf04207873c2013a331784e",
      "445def1532d04685ae918c032c0d8925",
      "559a115f751c49ed956bb0c7c6c3647e",
      "3d40413b755a4be4b9753a093bf89ef5",
      "f0a9362dd1e34e6d8dfd93fcea182537",
      "7edd1032feae486da82f14c1110e6c36"
     ]
    },
    "id": "C50UUxdE_d14",
    "outputId": "8fe1cf0e-6ad7-47c7-8b87-93dcca57c972"
   },
   "outputs": [
    {
     "name": "stderr",
     "output_type": "stream",
     "text": [
      "Repo card metadata block was not found. Setting CardData to empty.\n",
      "WARNING:huggingface_hub.repocard:Repo card metadata block was not found. Setting CardData to empty.\n"
     ]
    },
    {
     "data": {
      "application/vnd.jupyter.widget-view+json": {
       "model_id": "be1e0a664646479194563d1584e3b286",
       "version_major": 2,
       "version_minor": 0
      },
      "text/plain": [
       "Map:   0%|          | 0/1000 [00:00<?, ? examples/s]"
      ]
     },
     "metadata": {},
     "output_type": "display_data"
    }
   ],
   "source": [
    "from datasets import load_dataset\n",
    "import re\n",
    "\n",
    "# Load the dataset\n",
    "dataset = load_dataset('timdettmers/openassistant-guanaco')\n",
    "\n",
    "# Shuffle the dataset and slice it\n",
    "dataset = dataset['train'].shuffle(seed=42).select(range(1000))\n",
    "\n",
    "# Define a function to transform the data\n",
    "def transform_conversation(example):\n",
    "    conversation_text = example['text']\n",
    "    segments = conversation_text.split('###')\n",
    "\n",
    "    reformatted_segments = []\n",
    "\n",
    "    # Iterate over pairs of segments\n",
    "    for i in range(1, len(segments) - 1, 2):\n",
    "        human_text = segments[i].strip().replace('Human:', '').strip()\n",
    "\n",
    "        # Check if there is a corresponding assistant segment before processing\n",
    "        if i + 1 < len(segments):\n",
    "            assistant_text = segments[i+1].strip().replace('Assistant:', '').strip()\n",
    "\n",
    "            # Apply the new template\n",
    "            reformatted_segments.append(f'<s>[INST] {human_text} [/INST] {assistant_text} </s>')\n",
    "        else:\n",
    "            # Handle the case where there is no corresponding assistant segment\n",
    "            reformatted_segments.append(f'<s>[INST] {human_text} [/INST] </s>')\n",
    "\n",
    "    return {'text': ''.join(reformatted_segments)}\n",
    "\n",
    "\n",
    "# Apply the transformation\n",
    "transformed_dataset = dataset.map(transform_conversation)\n"
   ]
  },
  {
   "cell_type": "code",
   "execution_count": null,
   "metadata": {
    "colab": {
     "base_uri": "https://localhost:8080/",
     "height": 145,
     "referenced_widgets": [
      "47c9faca878f46739471514d35c408ab",
      "b60bc9b337e54722aa9693768550425b",
      "6fea6a4410be4885a183f8d1b7577d7a",
      "8123ccd001f544819716ce344505beed",
      "f344c57d7ba7430aa3cf556c7be8ad4f",
      "8d56f0eff9944824ac228751fe4f67a9",
      "dd08eec8b74242789e16034d60f0711d",
      "cce77076778f46aba3b13dc16911da5e",
      "183ec0b5e7d74fb78583fd50d029f56d",
      "d20401dfb9cf443dad65aa056fc8b4d1",
      "fd8d04b91b2a4bd5bb533728849e7a22",
      "576de5273f1e462d9a73a418da2c3235",
      "2cfc0fab526745e0ae72ea9957decc92",
      "aa817c6ba5b345aaa171ed5d8f2fd4b6",
      "667c1c1e5df74c06b7dbea0ea46a8bdd",
      "e8dad212e98441fc92c66d010415a25d",
      "31908a3a490248548f7bed6d63db595f",
      "d1294429c9b744b1936100208b49b53a",
      "3110f48c98f142849e0bba7a2a32109c",
      "4e5706d594534f268fa6598de6b6a011",
      "1dec23fe3a1544ecbbb7534ec0779058",
      "e117d04f90614d28ab5770714f8692c4",
      "1636f975deca46ed872faac44dcd1291",
      "d2b4d410138d48a395b700b379207dce",
      "63abdd271ac4457ea390b100bbabd6f2",
      "bdb0e59607c043e48e4cfac70b1b8ba3",
      "4fad420aaf1d46658dc71da5e5953ecf",
      "b63217b959204d28b6b916f8dd876815",
      "3f63b141ce7446f8943fb0912f20e8b1",
      "d8b643bf4a3f4f9485d3dd790c695c46",
      "5fdcd1ee533c43b7a89ae4e6c537a454",
      "710df57af6584cb19a5d4fa11b34f5ec",
      "bebba554f4f44a93970178d02aed4e94",
      "3aa725d456da4de6a2cfb05c7e17666d",
      "8ed4c8d0036740a8990ab5f64a61b090",
      "5651777703ee48f6a608250d8dbd771f",
      "235e7f2830304743b698ee20ba09b1d2",
      "7e275b4f5b7a43fdbb9187f3fa001fb3",
      "bf9fc872fde54340a805e215edc142aa",
      "fdd5885c8b264facbfefdb4c9d487455",
      "4ee25a7989d9487cbe38a0917fb88ac3",
      "f456cf3b8e464fd99122eeda14bade4a",
      "25ffda3e47ae4f9f87b7e2f9a325e18f",
      "ed70e24d8b06407aae7d3813a8a6504c"
     ]
    },
    "id": "EhaRgRB-Akoc",
    "outputId": "68fdc68e-9fb2-4447-97d3-338854dd6166"
   },
   "outputs": [
    {
     "data": {
      "application/vnd.jupyter.widget-view+json": {
       "model_id": "47c9faca878f46739471514d35c408ab",
       "version_major": 2,
       "version_minor": 0
      },
      "text/plain": [
       "Pushing dataset shards to the dataset hub:   0%|          | 0/1 [00:00<?, ?it/s]"
      ]
     },
     "metadata": {},
     "output_type": "display_data"
    },
    {
     "data": {
      "application/vnd.jupyter.widget-view+json": {
       "model_id": "576de5273f1e462d9a73a418da2c3235",
       "version_major": 2,
       "version_minor": 0
      },
      "text/plain": [
       "Creating parquet from Arrow format:   0%|          | 0/1 [00:00<?, ?ba/s]"
      ]
     },
     "metadata": {},
     "output_type": "display_data"
    },
    {
     "data": {
      "application/vnd.jupyter.widget-view+json": {
       "model_id": "1636f975deca46ed872faac44dcd1291",
       "version_major": 2,
       "version_minor": 0
      },
      "text/plain": [
       "Deleting unused files from dataset repository:   0%|          | 0/1 [00:00<?, ?it/s]"
      ]
     },
     "metadata": {},
     "output_type": "display_data"
    },
    {
     "data": {
      "application/vnd.jupyter.widget-view+json": {
       "model_id": "3aa725d456da4de6a2cfb05c7e17666d",
       "version_major": 2,
       "version_minor": 0
      },
      "text/plain": [
       "Downloading metadata:   0%|          | 0.00/782 [00:00<?, ?B/s]"
      ]
     },
     "metadata": {},
     "output_type": "display_data"
    }
   ],
   "source": [
    "transformed_dataset.push_to_hub(\"guanaco-llama2-1k\")"
   ]
  }
 ],
 "metadata": {
  "colab": {
   "provenance": []
  },
  "kernelspec": {
   "display_name": "Python 3 (ipykernel)",
   "language": "python",
   "name": "python3"
  },
  "language_info": {
   "codemirror_mode": {
    "name": "ipython",
    "version": 3
   },
   "file_extension": ".py",
   "mimetype": "text/x-python",
   "name": "python",
   "nbconvert_exporter": "python",
   "pygments_lexer": "ipython3",
   "version": "3.13.5"
  
   },
 "nbformat": 4,
 "nbformat_minor": 4
}
